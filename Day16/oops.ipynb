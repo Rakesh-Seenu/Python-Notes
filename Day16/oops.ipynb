{
 "cells": [
  {
   "cell_type": "markdown",
   "id": "c0495472",
   "metadata": {},
   "source": [
    "OOPs - Creation of Virtual resturant"
   ]
  },
  {
   "cell_type": "markdown",
   "id": "acc41a32",
   "metadata": {},
   "source": [
    "waiter - had -  plate, tables resposnible - attributes (variable for a modeled object)\n",
    "\n",
    "\n",
    "does - take order, take payment - methods(functions a particualar model can do)"
   ]
  },
  {
   "cell_type": "markdown",
   "id": "625aa32c",
   "metadata": {},
   "source": [
    "multiple versions of same object"
   ]
  },
  {
   "cell_type": "markdown",
   "id": "facf9eca",
   "metadata": {},
   "source": [
    "car (object) = CarBlueprint()  (class)"
   ]
  },
  {
   "cell_type": "code",
   "execution_count": 1,
   "id": "65ae4bcc",
   "metadata": {},
   "outputs": [],
   "source": [
    "import turtle"
   ]
  },
  {
   "cell_type": "code",
   "execution_count": 2,
   "id": "ebaadbd6",
   "metadata": {},
   "outputs": [],
   "source": [
    "from turtle import Turtle, Screen\n",
    "dm1 = Turtle()"
   ]
  },
  {
   "cell_type": "code",
   "execution_count": null,
   "id": "e6228fe9",
   "metadata": {},
   "outputs": [],
   "source": [
    "dm = turtle.Turtle()\n",
    "dm.shape(\"turtle\")\n",
    "dm.color(\"blue\")"
   ]
  },
  {
   "cell_type": "code",
   "execution_count": null,
   "id": "44a12120",
   "metadata": {},
   "outputs": [
    {
     "ename": "NameError",
     "evalue": "name 'dm' is not defined",
     "output_type": "error",
     "traceback": [
      "\u001b[1;31m---------------------------------------------------------------------------\u001b[0m",
      "\u001b[1;31mNameError\u001b[0m                                 Traceback (most recent call last)",
      "Cell \u001b[1;32mIn[3], line 1\u001b[0m\n\u001b[1;32m----> 1\u001b[0m \u001b[38;5;28mprint\u001b[39m(\u001b[43mdm\u001b[49m)\n",
      "\u001b[1;31mNameError\u001b[0m: name 'dm' is not defined"
     ]
    },
    {
     "ename": "",
     "evalue": "",
     "output_type": "error",
     "traceback": [
      "\u001b[1;31mThe Kernel crashed while executing code in the current cell or a previous cell. \n",
      "\u001b[1;31mPlease review the code in the cell(s) to identify a possible cause of the failure. \n",
      "\u001b[1;31mClick <a href='https://aka.ms/vscodeJupyterKernelCrash'>here</a> for more info. \n",
      "\u001b[1;31mView Jupyter <a href='command:jupyter.viewOutput'>log</a> for further details."
     ]
    }
   ],
   "source": [
    "print(dm)"
   ]
  },
  {
   "cell_type": "code",
   "execution_count": null,
   "id": "904dc8ac",
   "metadata": {},
   "outputs": [],
   "source": [
    "my_screen = turtle.Screen()"
   ]
  },
  {
   "cell_type": "code",
   "execution_count": null,
   "id": "2af8221c",
   "metadata": {},
   "outputs": [],
   "source": [
    "print(my_screen.canvheight) #myscree is object of class Screen canvas height is attribute of Screen class"
   ]
  },
  {
   "cell_type": "code",
   "execution_count": null,
   "id": "593a3532",
   "metadata": {},
   "outputs": [],
   "source": [
    "my_screen.exitonclick()"
   ]
  },
  {
   "cell_type": "code",
   "execution_count": null,
   "id": "37fcafba",
   "metadata": {},
   "outputs": [],
   "source": []
  }
 ],
 "metadata": {
  "kernelspec": {
   "display_name": "Python 3",
   "language": "python",
   "name": "python3"
  },
  "language_info": {
   "codemirror_mode": {
    "name": "ipython",
    "version": 3
   },
   "file_extension": ".py",
   "mimetype": "text/x-python",
   "name": "python",
   "nbconvert_exporter": "python",
   "pygments_lexer": "ipython3",
   "version": "3.12.2"
  }
 },
 "nbformat": 4,
 "nbformat_minor": 5
}
