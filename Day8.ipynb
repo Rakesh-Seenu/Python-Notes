{
 "cells": [
  {
   "cell_type": "code",
   "execution_count": 1,
   "metadata": {},
   "outputs": [
    {
     "name": "stdout",
     "output_type": "stream",
     "text": [
      "Hello, World!\n",
      "how u doing'\n",
      "byee\n"
     ]
    }
   ],
   "source": [
    "def greet():\n",
    "    print(\"Hello, World!\")\n",
    "    print(\"how u doing'\")\n",
    "    print(\"byee\")\n",
    "\n",
    "greet()"
   ]
  },
  {
   "cell_type": "code",
   "execution_count": 2,
   "metadata": {},
   "outputs": [
    {
     "name": "stdout",
     "output_type": "stream",
     "text": [
      "Hello, World!\n",
      "how u doing'\n",
      "byee\n"
     ]
    }
   ],
   "source": [
    "greet()"
   ]
  },
  {
   "cell_type": "markdown",
   "metadata": {},
   "source": [
    "parameter = name of the data which is passed in\n",
    "\n",
    "argument = actual value that is passed"
   ]
  },
  {
   "cell_type": "code",
   "execution_count": 8,
   "metadata": {},
   "outputs": [
    {
     "name": "stdout",
     "output_type": "stream",
     "text": [
      "hello rakesh\n",
      "How are you today! rakesh\n"
     ]
    }
   ],
   "source": [
    "#passing a value when we call this function\n",
    "def greet_with_name(name):\n",
    "    print(f\"hello {name}\")\n",
    "    print(f\"How are you today! {name}\")\n",
    "\n",
    "greet_with_name(\"rakesh\")"
   ]
  },
  {
   "cell_type": "code",
   "execution_count": null,
   "metadata": {},
   "outputs": [],
   "source": [
    "def life_in_weeks(age):\n",
    "    years_remaining = 90 - age\n",
    "    weeks_remaining = years_remaining * 52\n",
    "    print(f\"You have {weeks_remaining} weeks left.\")\n",
    " \n",
    " \n",
    "life_in_weeks(12)"
   ]
  },
  {
   "cell_type": "code",
   "execution_count": 11,
   "metadata": {},
   "outputs": [
    {
     "name": "stdout",
     "output_type": "stream",
     "text": [
      "hello rakesh\n",
      "are youb living in dvg\n"
     ]
    }
   ],
   "source": [
    "#Function with more than 1 parameters\n",
    "def greet_with(name,location):\n",
    "    print(f\"hello {name}\")\n",
    "    print(f\"are youb living in {location}\")\n",
    "\n",
    "greet_with(\"rakesh\", \"dvg\")    \n"
   ]
  },
  {
   "cell_type": "code",
   "execution_count": 13,
   "metadata": {},
   "outputs": [
    {
     "name": "stdout",
     "output_type": "stream",
     "text": [
      "hello dvg\n",
      "are youb living in rakesh\n"
     ]
    }
   ],
   "source": [
    "#if we change the postion of the inputs it will give us nonsense coz of positon arg\n",
    "greet_with(\"dvg\",\"rakesh\")    "
   ]
  },
  {
   "cell_type": "markdown",
   "metadata": {},
   "source": [
    "Keyword Arguments"
   ]
  },
  {
   "cell_type": "code",
   "execution_count": 14,
   "metadata": {},
   "outputs": [
    {
     "name": "stdout",
     "output_type": "stream",
     "text": [
      "hello rakesh\n",
      "are youb living in germany\n"
     ]
    }
   ],
   "source": [
    "#it knows which arg is associted with which param it knows now\n",
    "greet_with(location=\"germany\",name=\"rakesh\")"
   ]
  },
  {
   "cell_type": "code",
   "execution_count": 11,
   "metadata": {},
   "outputs": [
    {
     "name": "stdout",
     "output_type": "stream",
     "text": [
      "Here is the encoded result: jgnnq\n",
      "Here is the decoded result: hello\n",
      "Goodbye\n"
     ]
    }
   ],
   "source": [
    "alphabet = ['a', 'b', 'c', 'd', 'e', 'f', 'g', 'h', 'i', 'j', 'k', 'l', 'm', \n",
    "            'n', 'o', 'p', 'q', 'r', 's', 't', 'u', 'v', 'w', 'x', 'y', 'z']\n",
    "direction = input(\"Type 'encode' to encrypt, type 'decode' to decrypt\").lower()\n",
    "text = input(\"Type ur message:\\n\").lower()\n",
    "shift = int(input(\"type the shift number:\\n\"))\n",
    "\n",
    "# def encrypt(original_text,shift_amount):\n",
    "#     # Get the text to be encrypted\n",
    "#     cipher_text = \"\"\n",
    "\n",
    "#     for letter in original_text:\n",
    "#         shifted_position  = alphabet.index(letter) +shift_amount\n",
    "\n",
    "#         shifted_position %=  len(alphabet) #0-25\n",
    "#         cipher_text += alphabet[shifted_position]\n",
    "        \n",
    "#     print(f\"here is the encoded result: {cipher_text}\")    \n",
    "\n",
    "# encrypt(original_text=text,shift_amount= shift)    \n",
    "\n",
    "\n",
    "# def decrypt(cipher_text,shift_amount):\n",
    "#     # Get the text to be encrypted\n",
    "#     original_text = \"\"\n",
    "\n",
    "#     for letter in cipher_text:\n",
    "#         shifted_position  = alphabet.index(letter) -shift_amount\n",
    "\n",
    "#         shifted_position %=  len(alphabet) #0-25\n",
    "#         original_text += alphabet[shifted_position]\n",
    "        \n",
    "#     print(f\"here is the decoded result: {original_text}\")    \n",
    "\n",
    "def caesar(original_text, shift_amount, encode_or_decode):\n",
    "    end_text = \"\"\n",
    "\n",
    "    # Reverse shift if decoding\n",
    "    if encode_or_decode == \"decode\":\n",
    "        shift_amount *= -1\n",
    "\n",
    "    for letter in original_text:\n",
    "        if letter in alphabet:\n",
    "            # Find new shifted position\n",
    "            new_position = (alphabet.index(letter) + shift_amount) % len(alphabet)\n",
    "            end_text += alphabet[new_position]\n",
    "        else:\n",
    "            # Keep non-alphabet characters unchanged\n",
    "            end_text += letter\n",
    "\n",
    "    print(f\"Here is the {encode_or_decode}d result: {end_text}\")\n",
    "\n",
    "should_continue = True\n",
    "\n",
    "while should_continue:\n",
    "    direction = input(\"Type 'encode' to encrypt, type 'decode' to decrypt\").lower()\n",
    "    text = input(\"Type ur message:\\n\").lower()\n",
    "    shift = int(input(\"type the shift number:\\n\"))\n",
    "    caesar(original_text=text, shift_amount=shift, encode_or_decode=direction)\n",
    "\n",
    "    if input(\"Type 'yes' if you want to go again. Otherwise type 'no'.\").lower() == \"no\":\n",
    "        should_continue = False\n",
    "        print(\"Goodbye\")"
   ]
  },
  {
   "cell_type": "code",
   "execution_count": null,
   "metadata": {},
   "outputs": [],
   "source": []
  }
 ],
 "metadata": {
  "kernelspec": {
   "display_name": "Python 3",
   "language": "python",
   "name": "python3"
  },
  "language_info": {
   "codemirror_mode": {
    "name": "ipython",
    "version": 3
   },
   "file_extension": ".py",
   "mimetype": "text/x-python",
   "name": "python",
   "nbconvert_exporter": "python",
   "pygments_lexer": "ipython3",
   "version": "3.8.10"
  }
 },
 "nbformat": 4,
 "nbformat_minor": 2
}
