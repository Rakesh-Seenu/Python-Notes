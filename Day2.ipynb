{
 "cells": [
  {
   "cell_type": "code",
   "execution_count": 2,
   "metadata": {},
   "outputs": [
    {
     "name": "stdout",
     "output_type": "stream",
     "text": [
      "8\n"
     ]
    }
   ],
   "source": [
    "print(len(\"65521654\")) # int to srt"
   ]
  },
  {
   "cell_type": "code",
   "execution_count": 8,
   "metadata": {},
   "outputs": [
    {
     "name": "stdout",
     "output_type": "stream",
     "text": [
      "123456\n"
     ]
    }
   ],
   "source": [
    "print(\"123\"+\"456\")"
   ]
  },
  {
   "cell_type": "code",
   "execution_count": 7,
   "metadata": {},
   "outputs": [
    {
     "name": "stdout",
     "output_type": "stream",
     "text": [
      "n\n"
     ]
    }
   ],
   "source": [
    "print(\"broken\"[-1]) # substring"
   ]
  },
  {
   "cell_type": "code",
   "execution_count": 9,
   "metadata": {},
   "outputs": [
    {
     "name": "stdout",
     "output_type": "stream",
     "text": [
      "579\n"
     ]
    }
   ],
   "source": [
    "# int = whole number\n",
    "print(123 + 456)"
   ]
  },
  {
   "cell_type": "code",
   "execution_count": 10,
   "metadata": {},
   "outputs": [
    {
     "name": "stdout",
     "output_type": "stream",
     "text": [
      "12\n"
     ]
    }
   ],
   "source": [
    "print(1_2)"
   ]
  },
  {
   "cell_type": "code",
   "execution_count": 15,
   "metadata": {},
   "outputs": [
    {
     "name": "stdout",
     "output_type": "stream",
     "text": [
      "<class 'str'>\n",
      "<class 'int'>\n",
      "<class 'float'>\n",
      "<class 'bool'>\n",
      "<class 'NoneType'>\n",
      "<class 'list'>\n",
      "<class 'tuple'>\n",
      "<class 'dict'>\n",
      "<class 'set'>\n",
      "<class 'range'>\n",
      "<class 'frozenset'>\n"
     ]
    }
   ],
   "source": [
    "print(type(\"hello\"))\n",
    "print(type(123))\n",
    "print(type(1.2))\n",
    "print(type(True))\n",
    "print(type(None))\n",
    "print(type([1,2,3]))\n",
    "print(type((1,2,3)))\n",
    "print(type({1:2}))\n",
    "print(type({1,2,3}))\n",
    "print(type(range(10)))\n",
    "print(type(frozenset({1,2,3})))\n"
   ]
  },
  {
   "cell_type": "code",
   "execution_count": 19,
   "metadata": {},
   "outputs": [
    {
     "name": "stdout",
     "output_type": "stream",
     "text": [
      "123345\n"
     ]
    },
    {
     "data": {
      "text/plain": [
       "232"
      ]
     },
     "execution_count": 19,
     "metadata": {},
     "output_type": "execute_result"
    }
   ],
   "source": [
    "# type casting\n",
    "print(\"123\"+\"345\")\n",
    "int(\"232\")"
   ]
  },
  {
   "cell_type": "code",
   "execution_count": 20,
   "metadata": {},
   "outputs": [
    {
     "name": "stdout",
     "output_type": "stream",
     "text": [
      "355\n"
     ]
    }
   ],
   "source": [
    "print(int(\"232\")+int(\"123\"))"
   ]
  },
  {
   "cell_type": "code",
   "execution_count": 22,
   "metadata": {},
   "outputs": [
    {
     "name": "stdout",
     "output_type": "stream",
     "text": [
      "enter your name 5\n"
     ]
    }
   ],
   "source": [
    "print(\"enter your name\"+ \" \"+ str(len(input(\"what is your name\"))))"
   ]
  },
  {
   "cell_type": "code",
   "execution_count": 25,
   "metadata": {},
   "outputs": [
    {
     "name": "stdout",
     "output_type": "stream",
     "text": [
      "468\n",
      "-222\n",
      "42435\n",
      "0.3565217391304348\n",
      "0\n",
      "123\n",
      "1728\n"
     ]
    }
   ],
   "source": [
    "print(123+345)\n",
    "print(123-345)\n",
    "print(123*345)\n",
    "print(123/345) # implicit type casting\n",
    "print(123//345) # floor division\n",
    "print(123%345)\n",
    "print(12**3)"
   ]
  },
  {
   "cell_type": "code",
   "execution_count": 28,
   "metadata": {},
   "outputs": [
    {
     "name": "stdout",
     "output_type": "stream",
     "text": [
      "27\n",
      "17\n",
      "23\n",
      "35\n",
      "103\n",
      "243\n",
      "1.4000000000000004\n"
     ]
    }
   ],
   "source": [
    "#PEMDAS RULES\n",
    "#Parentheses Exponents Multiplication Division Addition Subtraction\n",
    "print(3*(4+5))\n",
    "print(3*4+5)\n",
    "print(3+4*5)\n",
    "print((3+4)*5)\n",
    "print(3+4*5**2)\n",
    "print(3*(4+5)**2)\n",
    "print(3*(4+5)/5-4)\n"
   ]
  },
  {
   "cell_type": "code",
   "execution_count": 30,
   "metadata": {},
   "outputs": [
    {
     "name": "stdout",
     "output_type": "stream",
     "text": [
      "29.065743944636683\n",
      "29\n"
     ]
    }
   ],
   "source": [
    "bmi = 84/1.7**2\n",
    "print(bmi)\n",
    "print(int(bmi))"
   ]
  },
  {
   "cell_type": "code",
   "execution_count": 34,
   "metadata": {},
   "outputs": [
    {
     "name": "stdout",
     "output_type": "stream",
     "text": [
      "31\n"
     ]
    }
   ],
   "source": [
    "bmi = 84/1.65**2\n",
    "print(round(bmi)) #flooring"
   ]
  },
  {
   "cell_type": "code",
   "execution_count": 35,
   "metadata": {},
   "outputs": [
    {
     "name": "stdout",
     "output_type": "stream",
     "text": [
      "30.85\n"
     ]
    }
   ],
   "source": [
    "bmi = 84/1.65**2\n",
    "print(round(bmi,2)) #flooring"
   ]
  },
  {
   "cell_type": "code",
   "execution_count": 36,
   "metadata": {},
   "outputs": [
    {
     "name": "stdout",
     "output_type": "stream",
     "text": [
      "15\n",
      "10\n",
      "50\n",
      "10.0\n",
      "100000.0\n"
     ]
    }
   ],
   "source": [
    "#Assignment operator\n",
    "a = 10\n",
    "a += 5\n",
    "print(a)\n",
    "a -= 5\n",
    "print(a)\n",
    "a *= 5\n",
    "print(a)\n",
    "a /= 5\n",
    "print(a)\n",
    "a **= 5\n",
    "print(a)"
   ]
  },
  {
   "cell_type": "code",
   "execution_count": 37,
   "metadata": {},
   "outputs": [
    {
     "name": "stdout",
     "output_type": "stream",
     "text": [
      "your score is = 0\n"
     ]
    }
   ],
   "source": [
    "a= 0\n",
    "print(f'your score is = {a}')"
   ]
  },
  {
   "cell_type": "code",
   "execution_count": 38,
   "metadata": {},
   "outputs": [
    {
     "name": "stdout",
     "output_type": "stream",
     "text": [
      "Welcome to the tip calculator\n",
      "Each person should pay: $99.00\n"
     ]
    }
   ],
   "source": [
    "print(\"Welcome to the tip calculator\")\n",
    "bill = float(input(\"what was the total bill?\"))\n",
    "tip = int(input(\"what percentage tip would you like to give? 10, 12, or 15?\"))\n",
    "people = int(input(\"how many people to split the bill?\"))\n",
    "tip_as_percent = tip/100\n",
    "total_tip_amount = bill * tip_as_percent\n",
    "total_bill = bill + total_tip_amount\n",
    "bill_per_person = total_bill / people\n",
    "final_amount = round(bill_per_person, 2)\n",
    "final_amount = \"{:.2f}\".format(bill_per_person)\n",
    "print(f\"Each person should pay: ${final_amount}\")\n"
   ]
  },
  {
   "cell_type": "code",
   "execution_count": null,
   "metadata": {},
   "outputs": [],
   "source": []
  },
  {
   "cell_type": "code",
   "execution_count": null,
   "metadata": {},
   "outputs": [],
   "source": []
  },
  {
   "cell_type": "code",
   "execution_count": null,
   "metadata": {},
   "outputs": [],
   "source": []
  },
  {
   "cell_type": "code",
   "execution_count": null,
   "metadata": {},
   "outputs": [],
   "source": []
  },
  {
   "cell_type": "code",
   "execution_count": null,
   "metadata": {},
   "outputs": [],
   "source": []
  },
  {
   "cell_type": "code",
   "execution_count": null,
   "metadata": {},
   "outputs": [],
   "source": []
  },
  {
   "cell_type": "code",
   "execution_count": null,
   "metadata": {},
   "outputs": [],
   "source": []
  }
 ],
 "metadata": {
  "kernelspec": {
   "display_name": "Python 3",
   "language": "python",
   "name": "python3"
  },
  "language_info": {
   "codemirror_mode": {
    "name": "ipython",
    "version": 3
   },
   "file_extension": ".py",
   "mimetype": "text/x-python",
   "name": "python",
   "nbconvert_exporter": "python",
   "pygments_lexer": "ipython3",
   "version": "3.8.10"
  }
 },
 "nbformat": 4,
 "nbformat_minor": 2
}
