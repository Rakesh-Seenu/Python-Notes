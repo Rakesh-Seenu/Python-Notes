{
 "cells": [
  {
   "cell_type": "markdown",
   "metadata": {},
   "source": [
    "Black Jack"
   ]
  },
  {
   "cell_type": "code",
   "execution_count": 1,
   "metadata": {},
   "outputs": [
    {
     "name": "stdout",
     "output_type": "stream",
     "text": [
      "Requirement already satisfied: art in c:\\users\\hsrak\\appdata\\local\\packages\\pythonsoftwarefoundation.python.3.8_qbz5n2kfra8p0\\localcache\\local-packages\\python38\\site-packages (6.4)\n"
     ]
    }
   ],
   "source": [
    "!pip install art"
   ]
  },
  {
   "cell_type": "code",
   "execution_count": 5,
   "metadata": {},
   "outputs": [],
   "source": [
    "import os\n",
    "\n",
    "def clear():\n",
    "    os.system('cls' if os.name == 'nt' else 'clear')"
   ]
  },
  {
   "cell_type": "code",
   "execution_count": 6,
   "metadata": {},
   "outputs": [
    {
     "ename": "ModuleNotFoundError",
     "evalue": "No module named 'replit'",
     "output_type": "error",
     "traceback": [
      "\u001b[1;31m---------------------------------------------------------------------------\u001b[0m",
      "\u001b[1;31mModuleNotFoundError\u001b[0m                       Traceback (most recent call last)",
      "Cell \u001b[1;32mIn[6], line 4\u001b[0m\n\u001b[0;32m      2\u001b[0m \u001b[38;5;28;01mimport\u001b[39;00m \u001b[38;5;21;01mrandom\u001b[39;00m\n\u001b[0;32m      3\u001b[0m \u001b[38;5;66;03m# from art import logo\u001b[39;00m\n\u001b[1;32m----> 4\u001b[0m \u001b[38;5;28;01mfrom\u001b[39;00m \u001b[38;5;21;01mreplit\u001b[39;00m \u001b[38;5;28;01mimport\u001b[39;00m clear\n\u001b[0;32m      6\u001b[0m \u001b[38;5;28;01mdef\u001b[39;00m \u001b[38;5;21mdeal_card\u001b[39m():\n\u001b[0;32m      7\u001b[0m   \u001b[38;5;28;01mreturn\u001b[39;00m random\u001b[38;5;241m.\u001b[39mchoice(cards)\n",
      "\u001b[1;31mModuleNotFoundError\u001b[0m: No module named 'replit'"
     ]
    }
   ],
   "source": [
    "cards = [11, 2, 3, 4, 5, 6, 7, 8, 9, 10, 10, 10, 10]\n",
    "import random\n",
    "# from art import logo\n",
    "from replit import clear\n",
    "\n",
    "def deal_card():\n",
    "  return random.choice(cards)\n",
    "\n",
    "def calculate_score(cards):\n",
    "  if sum(cards) == 21 and len(cards) == 2:\n",
    "    return 0\n",
    "  if 11 in cards and sum(cards) > 21:\n",
    "    cards.remove(11)\n",
    "    cards.append(1)\n",
    "  return sum(cards)\n",
    "\n",
    "def compare(user_score, computer_score):\n",
    "  if user_score == computer_score:\n",
    "    return \"Draw\"\n",
    "  elif computer_score == 0:\n",
    "    return \"Lose, opponent has Blackjack\"\n",
    "  elif user_score == 0:\n",
    "    return \"Win with a Blackjack\"\n",
    "  elif user_score > 21:\n",
    "    return \"You went over. You lose\"\n",
    "  elif computer_score > 21:\n",
    "    return \"Opponent went over. You win\"\n",
    "  elif user_score > computer_score:\n",
    "    return \"You win\"\n",
    "  else:\n",
    "    return \"You lose\"\n",
    "  \n",
    "user_cards = []\n",
    "computer_cards = []\n",
    "def play_game():\n",
    "  print(logo)\n",
    "  for _ in range(2):\n",
    "    user_cards.append(deal_card())\n",
    "    computer_cards.append(deal_card())\n",
    "\n",
    "  user_score = calculate_score(user_cards)\n",
    "  computer_score = calculate_score(computer_cards)\n",
    "  game_over = False\n",
    "\n",
    "  while not game_over:\n",
    "    user_should_deal = input(\"Type 'y' to get another card, type 'n' to pass: \")\n",
    "    if user_should_deal == \"y\":\n",
    "      user_cards.append(deal_card())\n",
    "    else:\n",
    "      game_over = True\n",
    "\n",
    "  while computer_score != 0 and computer_score < 17:\n",
    "    computer_cards.append(deal_card())\n",
    "    computer_score = calculate_score(computer_cards)\n",
    "\n",
    "  print(f\"   Your cards: {user_cards}, current score: {user_score}\")\n",
    "  print(f\"   Computer's first card: {computer_cards[0]}\")\n",
    "\n",
    "  if user_score == 0 or computer_score == 0 or user_score > 21:\n",
    "    game_over = True\n",
    "  else:\n",
    "    while computer_score != 0 and computer_score < 17:\n",
    "      computer_cards.append(deal_card())\n",
    "      computer_score = calculate_score(computer_cards)  \n",
    "\n",
    "  print(f\"   Your final hand: {user_cards}, final score: {user_score}\")\n",
    "  print(f\"   Computer's final hand: {computer_cards}, final score: {computer_score}\")\n",
    "  print(compare(user_score, computer_score))   "
   ]
  },
  {
   "cell_type": "code",
   "execution_count": null,
   "metadata": {},
   "outputs": [],
   "source": []
  },
  {
   "cell_type": "code",
   "execution_count": null,
   "metadata": {},
   "outputs": [],
   "source": []
  },
  {
   "cell_type": "code",
   "execution_count": null,
   "metadata": {},
   "outputs": [],
   "source": []
  },
  {
   "cell_type": "code",
   "execution_count": null,
   "metadata": {},
   "outputs": [],
   "source": []
  },
  {
   "cell_type": "code",
   "execution_count": null,
   "metadata": {},
   "outputs": [],
   "source": []
  },
  {
   "cell_type": "code",
   "execution_count": null,
   "metadata": {},
   "outputs": [],
   "source": []
  },
  {
   "cell_type": "code",
   "execution_count": null,
   "metadata": {},
   "outputs": [],
   "source": []
  }
 ],
 "metadata": {
  "kernelspec": {
   "display_name": "Python 3",
   "language": "python",
   "name": "python3"
  },
  "language_info": {
   "codemirror_mode": {
    "name": "ipython",
    "version": 3
   },
   "file_extension": ".py",
   "mimetype": "text/x-python",
   "name": "python",
   "nbconvert_exporter": "python",
   "pygments_lexer": "ipython3",
   "version": "3.12.2"
  }
 },
 "nbformat": 4,
 "nbformat_minor": 2
}
