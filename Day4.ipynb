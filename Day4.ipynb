{
 "cells": [
  {
   "cell_type": "code",
   "execution_count": 8,
   "metadata": {},
   "outputs": [
    {
     "name": "stdout",
     "output_type": "stream",
     "text": [
      "71\n"
     ]
    }
   ],
   "source": [
    "import random\n",
    "random_number = random.randint(1,100)\n",
    "print(random_number)"
   ]
  },
  {
   "cell_type": "code",
   "execution_count": 21,
   "metadata": {},
   "outputs": [
    {
     "name": "stdout",
     "output_type": "stream",
     "text": [
      "5.943662871372757\n"
     ]
    }
   ],
   "source": [
    "nnm = random.random() * 100\n",
    "print(nnm)"
   ]
  },
  {
   "cell_type": "code",
   "execution_count": 28,
   "metadata": {},
   "outputs": [
    {
     "name": "stdout",
     "output_type": "stream",
     "text": [
      "74.96471854732263\n"
     ]
    }
   ],
   "source": [
    "random_number = random.uniform(1,100)\n",
    "print(random_number)"
   ]
  },
  {
   "cell_type": "code",
   "execution_count": 37,
   "metadata": {},
   "outputs": [
    {
     "name": "stdout",
     "output_type": "stream",
     "text": [
      "tails\n"
     ]
    }
   ],
   "source": [
    "h_or_t = random.randint(0,1)\n",
    "if h_or_t == 0:\n",
    "    print(\"heads\")\n",
    "else:    \n",
    "    print(\"tails\")"
   ]
  },
  {
   "cell_type": "code",
   "execution_count": 39,
   "metadata": {},
   "outputs": [
    {
     "name": "stdout",
     "output_type": "stream",
     "text": [
      "Delaware\n"
     ]
    }
   ],
   "source": [
    "states_of_america = [\"Delaware\",\"Pennsylvania\",\"New Jersey\",\"Georgia\",\"Connecticut\",\"Massachusetts\",\"Maryland\",\"South Carolina\",\"New Hampshire\",\"Virginia\",\"North Carolina\",\"New York\",\"Nevada\",\"Hawaii\"]\n",
    "print(states_of_america[0])"
   ]
  },
  {
   "cell_type": "code",
   "execution_count": 41,
   "metadata": {},
   "outputs": [
    {
     "name": "stdout",
     "output_type": "stream",
     "text": [
      "['Delaware', 'pennlvania', 'New Jersey', 'Georgia', 'Connecticut', 'Massachusetts', 'Maryland', 'South Carolina', 'New Hampshire', 'Virginia', 'North Carolina', 'New York', 'Nevada', 'Hawaii']\n"
     ]
    }
   ],
   "source": [
    "states_of_america[1] = \"pennlvania\"\n",
    "print(states_of_america)"
   ]
  },
  {
   "cell_type": "code",
   "execution_count": 42,
   "metadata": {},
   "outputs": [
    {
     "name": "stdout",
     "output_type": "stream",
     "text": [
      "['Delaware', 'pennlvania', 'New Jersey', 'Georgia', 'Connecticut', 'Massachusetts', 'Maryland', 'South Carolina', 'New Hampshire', 'Virginia', 'North Carolina', 'New York', 'Nevada', 'Hawaii', 'New York']\n"
     ]
    }
   ],
   "source": [
    "states_of_america.append(\"New York\") # add at end of the list\n",
    "print(states_of_america)"
   ]
  },
  {
   "cell_type": "code",
   "execution_count": 44,
   "metadata": {},
   "outputs": [
    {
     "name": "stdout",
     "output_type": "stream",
     "text": [
      "['Delaware', 'pennlvania', 'New Jersey', 'Georgia', 'Connecticut', 'Massachusetts', 'Maryland', 'South Carolina', 'New Hampshire', 'Virginia', 'North Carolina', 'New York', 'Nevada', 'Hawaii', 'New York', 'New York', 'xyz']\n"
     ]
    }
   ],
   "source": [
    "states_of_america.extend([\"New York\",\"xyz\"]) # add at end of the list\n",
    "print(states_of_america)"
   ]
  },
  {
   "cell_type": "code",
   "execution_count": 45,
   "metadata": {},
   "outputs": [
    {
     "name": "stdout",
     "output_type": "stream",
     "text": [
      "[]\n"
     ]
    }
   ],
   "source": [
    "states_of_america.clear()\n",
    "print(states_of_america)"
   ]
  },
  {
   "cell_type": "code",
   "execution_count": 48,
   "metadata": {},
   "outputs": [
    {
     "name": "stdout",
     "output_type": "stream",
     "text": [
      "A\n"
     ]
    }
   ],
   "source": [
    "friends = [\"A\",\"B\",\"C\",\"D\"]\n",
    "print(random.choice(friends))"
   ]
  },
  {
   "cell_type": "code",
   "execution_count": 52,
   "metadata": {},
   "outputs": [
    {
     "name": "stdout",
     "output_type": "stream",
     "text": [
      "D\n"
     ]
    }
   ],
   "source": [
    "friends = [\"A\",\"B\",\"C\",\"D\"]\n",
    "random_index = random.randint(0,3)\n",
    "print(friends[random_index])"
   ]
  },
  {
   "cell_type": "code",
   "execution_count": 55,
   "metadata": {},
   "outputs": [
    {
     "name": "stdout",
     "output_type": "stream",
     "text": [
      "[['strawberry', 'banana', 'apple', 'cherry'], ['spinach', 'kale', 'tomato', 'carrot']]\n"
     ]
    }
   ],
   "source": [
    "fruits = [\"strawberry\",\"banana\",\"apple\",\"cherry\"]\n",
    "vegetables = [\"spinach\",\"kale\",\"tomato\",\"carrot\"]\n",
    "dirty_dozen = [fruits,vegetables]\n",
    "print(dirty_dozen)"
   ]
  },
  {
   "cell_type": "code",
   "execution_count": 56,
   "metadata": {},
   "outputs": [
    {
     "name": "stdout",
     "output_type": "stream",
     "text": [
      "You chose rock, computer chose scissors.\n"
     ]
    }
   ],
   "source": [
    "game = [\"rock\",\"paper\",\"scissors\"]  \n",
    "user_choice = input(\"Enter a choice (rock, paper, scissors): \")\n",
    "computer_choice = random.choice(game)\n",
    "print(\"You chose \" + user_choice + \", computer chose \" + computer_choice + \".\")"
   ]
  },
  {
   "cell_type": "code",
   "execution_count": null,
   "metadata": {},
   "outputs": [],
   "source": []
  },
  {
   "cell_type": "code",
   "execution_count": null,
   "metadata": {},
   "outputs": [],
   "source": []
  },
  {
   "cell_type": "code",
   "execution_count": null,
   "metadata": {},
   "outputs": [],
   "source": []
  }
 ],
 "metadata": {
  "kernelspec": {
   "display_name": "Python 3",
   "language": "python",
   "name": "python3"
  },
  "language_info": {
   "codemirror_mode": {
    "name": "ipython",
    "version": 3
   },
   "file_extension": ".py",
   "mimetype": "text/x-python",
   "name": "python",
   "nbconvert_exporter": "python",
   "pygments_lexer": "ipython3",
   "version": "3.8.10"
  }
 },
 "nbformat": 4,
 "nbformat_minor": 2
}
