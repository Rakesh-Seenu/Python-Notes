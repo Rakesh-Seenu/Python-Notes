{
 "cells": [
  {
   "cell_type": "markdown",
   "metadata": {},
   "source": [
    "Function with output"
   ]
  },
  {
   "cell_type": "code",
   "execution_count": 1,
   "metadata": {},
   "outputs": [],
   "source": [
    "def my_func(something):\n",
    "    print(something)\n",
    "    return something"
   ]
  },
  {
   "cell_type": "code",
   "execution_count": 3,
   "metadata": {},
   "outputs": [
    {
     "name": "stdout",
     "output_type": "stream",
     "text": [
      "9\n"
     ]
    }
   ],
   "source": [
    "def function():\n",
    "    return 3*3\n",
    "\n",
    "output = function()\n",
    "print(output)"
   ]
  },
  {
   "cell_type": "code",
   "execution_count": 4,
   "metadata": {},
   "outputs": [
    {
     "name": "stdout",
     "output_type": "stream",
     "text": [
      "Jim\n",
      "Smith\n"
     ]
    }
   ],
   "source": [
    "def format_name(f_name,l_name):\n",
    "    print(f_name.title())\n",
    "    print(l_name.title())\n",
    "\n",
    "format_name(\"jim\",\"smith\")    "
   ]
  },
  {
   "cell_type": "code",
   "execution_count": 5,
   "metadata": {},
   "outputs": [
    {
     "name": "stdout",
     "output_type": "stream",
     "text": [
      "Jim Smith\n"
     ]
    }
   ],
   "source": [
    "def format_name(f_name,l_name):\n",
    "    formatted_f_name = f_name.title()\n",
    "    formatted_l_name = l_name.title()\n",
    "\n",
    "    return f\"{formatted_f_name} {formatted_l_name}\"\n",
    "\n",
    "print(format_name(\"jim\",\"smith\"))"
   ]
  },
  {
   "cell_type": "code",
   "execution_count": 6,
   "metadata": {},
   "outputs": [
    {
     "name": "stdout",
     "output_type": "stream",
     "text": [
      "Hellohello\n"
     ]
    }
   ],
   "source": [
    "def function_1(text):\n",
    "    return text+text\n",
    "\n",
    "def function_2(text):\n",
    "    return text.title()\n",
    "\n",
    "output = function_2(function_1(\"hello\"))\n",
    "print(output)"
   ]
  },
  {
   "cell_type": "code",
   "execution_count": 8,
   "metadata": {},
   "outputs": [
    {
     "name": "stdout",
     "output_type": "stream",
     "text": [
      "Yo Bro\n"
     ]
    }
   ],
   "source": [
    "def format_name(f_name,l_name):\n",
    "    if f_name == \"\" or l_name == \"\":\n",
    "        return \"You didn't provide valid inputs.\"\n",
    "    formatted_f_name = f_name.title()\n",
    "    formatted_l_name = l_name.title()\n",
    "\n",
    "    return f\"{formatted_f_name} {formatted_l_name}\"\n",
    "\n",
    "print(format_name(input(\"What is your first name? \"),input(\"What is your last name? \")))"
   ]
  },
  {
   "cell_type": "code",
   "execution_count": 9,
   "metadata": {},
   "outputs": [
    {
     "data": {
      "text/plain": [
       "True"
      ]
     },
     "execution_count": 9,
     "metadata": {},
     "output_type": "execute_result"
    }
   ],
   "source": [
    "def is_leap_year(year):\n",
    "    # Write your code here. \n",
    "    # Don't change the function name.\n",
    "    if year % 4 ==0 :\n",
    "        if year % 100 == 0:\n",
    "            if year % 400 == 0:\n",
    "                return True\n",
    "            else:\n",
    "                return False\n",
    "        else:\n",
    "            return True\n",
    "    else:\n",
    "        return False\n",
    "        \n",
    "is_leap_year(2000)        "
   ]
  },
  {
   "cell_type": "markdown",
   "metadata": {},
   "source": [
    "Docstring"
   ]
  },
  {
   "cell_type": "code",
   "execution_count": null,
   "metadata": {},
   "outputs": [],
   "source": [
    "def format_name(f_name,l_name):\n",
    "    \"\"\"\n",
    "    Take a first and last name and format \n",
    "    it to return the title case version of the name.\n",
    "    \"\"\"\n",
    "    if f_name == \"\" or l_name == \"\":\n",
    "        return \"You didn't provide valid inputs.\"\n",
    "    formatted_f_name = f_name.title()\n",
    "    formatted_l_name = l_name.title()\n",
    "\n",
    "    return f\"{formatted_f_name} {formatted_l_name}\"\n",
    "\n",
    "print(format_name(input(\"What is your first name? \"),input(\"What is your last name? \")))"
   ]
  },
  {
   "cell_type": "code",
   "execution_count": 5,
   "metadata": {},
   "outputs": [
    {
     "name": "stdout",
     "output_type": "stream",
     "text": [
      "11\n",
      "4\n"
     ]
    }
   ],
   "source": [
    "x = input(\"Which mathematical operation do you want to perform (+, -, *, /)? \")\n",
    "a = int(input(\"Enter the first number: \"))\n",
    "b = int(input(\"Enter the second number: \"))\n",
    "y = True\n",
    "\n",
    "def calc(a, b, x):\n",
    "    if x == \"+\":\n",
    "        return a + b\n",
    "    elif x == \"-\":\n",
    "        return a - b\n",
    "    elif x == \"*\":\n",
    "        return a * b\n",
    "    elif x == \"/\":\n",
    "        return a / b\n",
    "    else:\n",
    "        return \"Invalid operation\"\n",
    "while y == True:\n",
    "    print(calc(a, b, x))\n",
    "    z = input(\"Do you want to perform another calculation (y/n)? \")\n",
    "    if z == \"y\":\n",
    "        x = input(\"Which mathematical operation do you want to perform (+, -, *, /)? \")\n",
    "        a = int(input(\"Enter the first number: \"))\n",
    "        b = int(input(\"Enter the second number: \"))\n",
    "    else:\n",
    "        break"
   ]
  },
  {
   "cell_type": "code",
   "execution_count": 8,
   "metadata": {},
   "outputs": [
    {
     "name": "stdout",
     "output_type": "stream",
     "text": [
      "Welcome to the calculator!\n",
      "+\n",
      "-\n",
      "*\n",
      "/\n",
      "2.0 + 9.0 = 11.0\n",
      "+\n",
      "-\n",
      "*\n",
      "/\n",
      "11.0 - 2.0 = 9.0\n"
     ]
    }
   ],
   "source": [
    "def add(n1, n2):\n",
    "    return n1 + n2\n",
    "\n",
    "def subtract(n1, n2):\n",
    "    return n1 - n2\n",
    "\n",
    "def multiply(n1, n2):\n",
    "    return n1 * n2\n",
    "\n",
    "def divide(n1, n2):\n",
    "    return n1 / n2\n",
    "\n",
    "operations = {\n",
    "    \"+\": add,\n",
    "    \"-\": subtract,\n",
    "    \"*\": multiply,\n",
    "    \"/\": divide\n",
    "}\n",
    "\n",
    "def calculator():\n",
    "    print(\"Welcome to the calculator!\")\n",
    "    while True:\n",
    "        num1 = float(input(\"What's the first number?: \"))\n",
    "        should_continue = True\n",
    "        while should_continue:\n",
    "            for symbol in operations:\n",
    "                print(symbol)\n",
    "            operation_symbol = input(\"Pick an operation: \")\n",
    "            num2 = float(input(\"What's the next number?: \"))\n",
    "            answer = operations[operation_symbol](num1, num2)\n",
    "            print(f\"{num1} {operation_symbol} {num2} = {answer}\")\n",
    "            choice = input(f\"Type 'y' to continue calculating with {answer}, or type 'n' to start a new calculation, or 'q' to quit: \")\n",
    "            if choice == 'y':\n",
    "                num1 = answer\n",
    "            elif choice == 'n':\n",
    "                should_continue = False\n",
    "            elif choice == 'q':\n",
    "                return\n",
    "            else:\n",
    "                print(\"Invalid input. Please enter 'y', 'n', or 'q'.\")\n",
    "\n",
    "calculator()"
   ]
  },
  {
   "cell_type": "code",
   "execution_count": null,
   "metadata": {},
   "outputs": [],
   "source": []
  },
  {
   "cell_type": "code",
   "execution_count": null,
   "metadata": {},
   "outputs": [],
   "source": []
  },
  {
   "cell_type": "code",
   "execution_count": null,
   "metadata": {},
   "outputs": [],
   "source": []
  },
  {
   "cell_type": "code",
   "execution_count": null,
   "metadata": {},
   "outputs": [],
   "source": []
  },
  {
   "cell_type": "code",
   "execution_count": null,
   "metadata": {},
   "outputs": [],
   "source": []
  }
 ],
 "metadata": {
  "kernelspec": {
   "display_name": "Python 3",
   "language": "python",
   "name": "python3"
  },
  "language_info": {
   "codemirror_mode": {
    "name": "ipython",
    "version": 3
   },
   "file_extension": ".py",
   "mimetype": "text/x-python",
   "name": "python",
   "nbconvert_exporter": "python",
   "pygments_lexer": "ipython3",
   "version": "3.8.10"
  }
 },
 "nbformat": 4,
 "nbformat_minor": 2
}
