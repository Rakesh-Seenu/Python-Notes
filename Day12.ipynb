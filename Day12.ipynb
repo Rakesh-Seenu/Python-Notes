{
 "cells": [
  {
   "cell_type": "markdown",
   "metadata": {},
   "source": [
    "Local vs Global Scope"
   ]
  },
  {
   "cell_type": "code",
   "execution_count": 3,
   "metadata": {},
   "outputs": [
    {
     "name": "stdout",
     "output_type": "stream",
     "text": [
      "enemies inside function: 2\n",
      "enemies outside function: 1\n"
     ]
    }
   ],
   "source": [
    "enemies = 1\n",
    "\n",
    "def increase_enemies():\n",
    "    enemies = 2\n",
    "    print(f\"enemies inside function: {enemies}\")\n",
    "\n",
    "increase_enemies()\n",
    "print(f\"enemies outside function: {enemies}\")    "
   ]
  },
  {
   "cell_type": "markdown",
   "metadata": {},
   "source": [
    "Local Scope"
   ]
  },
  {
   "cell_type": "code",
   "execution_count": 5,
   "metadata": {},
   "outputs": [
    {
     "name": "stdout",
     "output_type": "stream",
     "text": [
      "2\n"
     ]
    },
    {
     "ename": "NameError",
     "evalue": "name 'potion_strength' is not defined",
     "output_type": "error",
     "traceback": [
      "\u001b[1;31m---------------------------------------------------------------------------\u001b[0m",
      "\u001b[1;31mNameError\u001b[0m                                 Traceback (most recent call last)",
      "Cell \u001b[1;32mIn[5], line 6\u001b[0m\n\u001b[0;32m      3\u001b[0m     \u001b[38;5;28mprint\u001b[39m(potion_strength)\n\u001b[0;32m      5\u001b[0m drink_potion()\n\u001b[1;32m----> 6\u001b[0m \u001b[38;5;28mprint\u001b[39m(\u001b[43mpotion_strength\u001b[49m)  \u001b[38;5;66;03m# This will raise a NameError because potion_strength is not defined outside the function\u001b[39;00m\n",
      "\u001b[1;31mNameError\u001b[0m: name 'potion_strength' is not defined"
     ]
    }
   ],
   "source": [
    "def drink_potion():\n",
    "    potion_strength = 2\n",
    "    print(potion_strength)\n",
    "\n",
    "drink_potion()\n",
    "print(potion_strength)  # This will raise a NameError because potion_strength is not defined outside the function\n"
   ]
  },
  {
   "cell_type": "markdown",
   "metadata": {},
   "source": [
    "Global Scope"
   ]
  },
  {
   "cell_type": "code",
   "execution_count": 10,
   "metadata": {},
   "outputs": [
    {
     "name": "stdout",
     "output_type": "stream",
     "text": [
      "10\n",
      "10\n"
     ]
    }
   ],
   "source": [
    "player_health = 10\n",
    "\n",
    "def drink_health_potion():\n",
    "    player_strength = 20\n",
    "    print(player_health)\n",
    "\n",
    "drink_health_potion()\n",
    "print(player_health)"
   ]
  },
  {
   "cell_type": "code",
   "execution_count": 13,
   "metadata": {},
   "outputs": [
    {
     "name": "stdout",
     "output_type": "stream",
     "text": [
      "20\n",
      "10\n"
     ]
    }
   ],
   "source": [
    "player_health = 10\n",
    "\n",
    "def game():\n",
    "    def drink_health_potion():\n",
    "        player_health = 20\n",
    "        print(player_health)\n",
    "\n",
    "    drink_health_potion()    \n",
    "\n",
    "game()\n",
    "print(player_health)"
   ]
  },
  {
   "cell_type": "markdown",
   "metadata": {},
   "source": [
    "Block Scope"
   ]
  },
  {
   "cell_type": "code",
   "execution_count": 14,
   "metadata": {},
   "outputs": [],
   "source": [
    "game_level = 3\n",
    "enemies = [\"Skeleton\", \"Zombie\", \"Ghost\"]\n",
    "\n",
    "def create_enemy():\n",
    "    new_enemy = \"\"\n",
    "    if game_level < 5:\n",
    "        new_enemy = enemies[0]\n",
    "    else:\n",
    "        new_enemy = enemies[1]\n",
    "\n",
    "    print(f\"New enemy: {new_enemy}\")    \n"
   ]
  },
  {
   "cell_type": "markdown",
   "metadata": {},
   "source": [
    "\n",
    "Prime Number Checker\n",
    "Prime numbers are numbers that can only be cleanly divided by themselves and 1.\n",
    "\n",
    "\n",
    "\n",
    "You need to write a function called is_prime() that checks whether if the number passed into it is a prime number or not.  It should return True or False.\n",
    "\n",
    "e.g.\n",
    "\n",
    "7 is a primer number because it is only divisible by 1 and itself.\n",
    "\n",
    "But 4 is not a prime number because you can divide it by 1, 2 or 4.\n",
    "\n",
    "NOTE: 2 is a prime number because it's only divisible by 1 and itself, but 1 is not a prime number because it is only divisible by 1.\n",
    "\n",
    "\n",
    "\n",
    "Example Input 1\n",
    "\n",
    "73\n",
    "\n",
    "Example Output 1\n",
    "\n",
    "True\n",
    "\n",
    "\n",
    "\n",
    "Example Input 2\n",
    "\n",
    "75\n",
    "\n",
    "Example Output 2\n",
    "\n",
    "False"
   ]
  },
  {
   "cell_type": "code",
   "execution_count": null,
   "metadata": {},
   "outputs": [],
   "source": [
    "def is_prime(num):\n",
    "    if num == 2:\n",
    "        return True\n",
    "    if num == 1:\n",
    "        return False\n",
    " \n",
    "    # Loop through all the numbers between 2 and the number\n",
    "    for i in range(2, num):\n",
    "        # Check if the number (num) can be divided by the potential prime number\n",
    "        if num % i == 0:\n",
    "            return False\n",
    " \n",
    "    # this return is outside the for loop which will only run once the loop finishes and none of the numbers are divisible. Therefore it is prime.\n",
    "    return True"
   ]
  },
  {
   "cell_type": "markdown",
   "metadata": {},
   "source": [
    "How to modify variables with global scope"
   ]
  },
  {
   "cell_type": "code",
   "execution_count": 15,
   "metadata": {},
   "outputs": [
    {
     "name": "stdout",
     "output_type": "stream",
     "text": [
      "enemies inside function: 3\n",
      "enemies outside function: 3\n"
     ]
    }
   ],
   "source": [
    "enemies = 1\n",
    "\n",
    "def increase_enemies():\n",
    "    global enemies\n",
    "    enemies += 2\n",
    "    print(f\"enemies inside function: {enemies}\")\n",
    "\n",
    "increase_enemies()\n",
    "print(f\"enemies outside function: {enemies}\")    "
   ]
  },
  {
   "cell_type": "code",
   "execution_count": 16,
   "metadata": {},
   "outputs": [
    {
     "name": "stdout",
     "output_type": "stream",
     "text": [
      "enemies inside function: 1\n",
      "enemies outside function: 2\n"
     ]
    }
   ],
   "source": [
    "enemies = 1\n",
    "def increase_enemies(enemies):\n",
    "    print(f\"enemies inside function: {enemies}\")\n",
    "    return enemies + 1\n",
    "\n",
    "enemies = increase_enemies(enemies)\n",
    "print(f\"enemies outside function: {enemies}\")"
   ]
  },
  {
   "cell_type": "markdown",
   "metadata": {},
   "source": [
    "Python Constraints and Global Scope"
   ]
  },
  {
   "cell_type": "code",
   "execution_count": 17,
   "metadata": {},
   "outputs": [],
   "source": [
    "#Global constants which are not meant to be changed should be in all caps\n",
    "# Constants are written in all caps\n",
    "PI = 3.14\n"
   ]
  },
  {
   "cell_type": "markdown",
   "metadata": {},
   "source": [
    "# Number Guessing Project"
   ]
  },
  {
   "cell_type": "code",
   "execution_count": 3,
   "metadata": {},
   "outputs": [
    {
     "name": "stdout",
     "output_type": "stream",
     "text": [
      "Hi! Welcome to the Number Guessing Game.\n",
      "You have 7 chances to guess the number. Let's start!\n",
      "\n",
      "You have 7 chances to guess the number between 10 and 20. Let's start!\n",
      "Too high! Try a lower number.\n",
      "Correct! The number is 11. You guessed it in 2 attempts.\n"
     ]
    }
   ],
   "source": [
    "import random\n",
    "\n",
    "print(\"Hi! Welcome to the Number Guessing Game.\\nYou have 7 chances to guess the number. Let's start!\")\n",
    "\n",
    "low = int(input(\"Enter the Lower Bound: \"))\n",
    "high = int(input(\"Enter the Upper Bound: \"))\n",
    "\n",
    "print(f\"\\nYou have 7 chances to guess the number between {low} and {high}. Let's start!\")\n",
    "\n",
    "num = random.randint(low, high) \n",
    "ch = 7                        # Total allowed chances\n",
    "gc = 0                        # Guess counter\n",
    "\n",
    "while gc < ch:\n",
    "    gc += 1\n",
    "    guess = int(input('Enter your guess: '))\n",
    "\n",
    "    if guess == num:\n",
    "        print(f'Correct! The number is {num}. You guessed it in {gc} attempts.')\n",
    "        break\n",
    "\n",
    "    elif gc >= ch and guess != num:\n",
    "        print(f'orry! The number was {num}. Better luck next time.')\n",
    "\n",
    "    elif guess > num:\n",
    "        print('Too high! Try a lower number.')\n",
    "\n",
    "    elif guess < num:\n",
    "        print('Too low! Try a higher number.')"
   ]
  },
  {
   "cell_type": "code",
   "execution_count": null,
   "metadata": {},
   "outputs": [],
   "source": []
  },
  {
   "cell_type": "code",
   "execution_count": null,
   "metadata": {},
   "outputs": [],
   "source": []
  },
  {
   "cell_type": "code",
   "execution_count": null,
   "metadata": {},
   "outputs": [],
   "source": []
  },
  {
   "cell_type": "code",
   "execution_count": null,
   "metadata": {},
   "outputs": [],
   "source": []
  },
  {
   "cell_type": "code",
   "execution_count": null,
   "metadata": {},
   "outputs": [],
   "source": []
  }
 ],
 "metadata": {
  "kernelspec": {
   "display_name": "Python 3",
   "language": "python",
   "name": "python3"
  },
  "language_info": {
   "codemirror_mode": {
    "name": "ipython",
    "version": 3
   },
   "file_extension": ".py",
   "mimetype": "text/x-python",
   "name": "python",
   "nbconvert_exporter": "python",
   "pygments_lexer": "ipython3",
   "version": "3.12.2"
  }
 },
 "nbformat": 4,
 "nbformat_minor": 2
}
